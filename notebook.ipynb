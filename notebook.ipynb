{
 "cells": [
  {
   "cell_type": "code",
   "execution_count": 8,
   "metadata": {},
   "outputs": [],
   "source": [
    "import pandas as pd\n",
    "import os"
   ]
  },
  {
   "cell_type": "code",
   "execution_count": 3,
   "metadata": {},
   "outputs": [],
   "source": [
    "from textblob import TextBlob"
   ]
  },
  {
   "cell_type": "code",
   "execution_count": 4,
   "metadata": {},
   "outputs": [],
   "source": [
    "import logging\n",
    "import pprint\n",
    "from rasa_nlu.training_data import load_data\n",
    "from rasa_nlu import config\n",
    "from rasa_nlu.model import Trainer\n",
    "from rasa_nlu.model import Interpreter\n",
    "from rasa_nlu.test import run_evaluation"
   ]
  },
  {
   "cell_type": "code",
   "execution_count": 43,
   "metadata": {},
   "outputs": [],
   "source": [
    "# This format avoids some text appearing twice, linked to either the same or other intent.\n",
    "data_en = {\n",
    "    'private company': 'co:ltd',\n",
    "    'limited company': 'co:ltd',\n",
    "    'private limited company': 'co:ltd',\n",
    "    'limited liability company': 'co:ltd',\n",
    "    \n",
    "    'publicly traded company': 'co:plc',\n",
    "    'public company': 'co:plc',\n",
    "    'public limited company': 'co:plc',\n",
    "    \n",
    "    'shareholder': 'sh',\n",
    "    'stockholder': 'sh'\n",
    "}\n",
    "data_de = {\n",
    "    'gmbh': 'co:ltd',\n",
    "    'beschränkter haftung': 'co:ltd',\n",
    "    \n",
    "    'plc': 'co:plc',\n",
    "    'ag': 'co:plc',\n",
    "    'aktiengesellschaft': 'co:plc',\n",
    "    \n",
    "    'mehrheitseigner': 'sh',\n",
    "}\n",
    "data = {'en': data_en, 'de': data_de}\n",
    "\n",
    "config_str = '''\n",
    "language: {lang}\n",
    "\n",
    "pipeline:\n",
    "- name: \"WhitespaceTokenizer\"\n",
    "- name: \"RegexFeaturizer\"\n",
    "- name: \"CRFEntityExtractor\"\n",
    "- name: \"EntitySynonymMapper\"\n",
    "- name: \"CountVectorsFeaturizer\"\n",
    "- name: \"CountVectorsFeaturizer\"\n",
    "  analyzer: \"char_wb\"\n",
    "  min_ngram: 1\n",
    "  max_ngram: 6\n",
    "- name: \"CountVectorsFeaturizer\"\n",
    "  analyzer: \"word\"\n",
    "  min_ngram: 1\n",
    "  max_ngram: 3\n",
    "- name: \"EmbeddingIntentClassifier\"\n",
    "'''"
   ]
  },
  {
   "cell_type": "code",
   "execution_count": 63,
   "metadata": {},
   "outputs": [],
   "source": [
    "class RasaClassifier:\n",
    "    \n",
    "    \n",
    "    def __init__(self, base_dir, data, config_str, verbose=0):\n",
    "        self.base_dir = base_dir\n",
    "        self.data_dir = os.path.join(self.base_dir, 'data')\n",
    "        self.models_dir = os.path.join(self.base_dir, 'models')\n",
    "        self.project_name = 'current'\n",
    "        self.model_name = 'nlu'\n",
    "        self.last_model_dir = os.path.join(self.models_dir, self.project_name, self.model_name)\n",
    "        self.log_file = os.path.join(self.base_dir, 'nlu_model.log')\n",
    "        self.nlu_file = os.path.join(self.data_dir, 'nlu.md')\n",
    "        self.config_file = os.path.join(self.base_dir, 'config.yml')\n",
    "\n",
    "        # TODO check if a model already exists and give the option to overwrite\n",
    "        try:\n",
    "            for d in [self.data_dir, self.last_model_dir]:\n",
    "                os.makedirs(d)\n",
    "        except OSError:\n",
    "            print(\"Creation of the directory structure {} failed\".format(base_dir))\n",
    "        else:\n",
    "            if verbose > 0:\n",
    "                print(\"Successfully created the base directory structure {}\".format(base_dir))\n",
    "\n",
    "        logging.basicConfig(filename=self.log_file, level=logging.INFO)\n",
    "\n",
    "        df_data = pd.DataFrame.from_dict(list(data.items()))\n",
    "        df_data.columns = ['text', 'intent']\n",
    "\n",
    "        i = df_data['intent'].unique()[0]\n",
    "        series_intents = df_data.groupby('intent')['text'].apply(\n",
    "            lambda texts: '## intent:' + texts.name + '\\n' + '\\n'.join(['- ' + t for t in texts])\n",
    "        )\n",
    "        intents = '\\n\\n'.join(series_intents)\n",
    "        with open(self.nlu_file, \"w\") as text_file:\n",
    "            print(intents, file=text_file)\n",
    "\n",
    "        with open(self.config_file, \"w\") as text_file:\n",
    "            print(config_str, file=text_file)\n",
    "\n",
    "    def train(self, verbose=0):\n",
    "        training_data = load_data(self.nlu_file)\n",
    "        trainer = Trainer(config.load(self.config_file))\n",
    "        trainer.train(training_data)\n",
    "        model_directory = trainer.persist(\n",
    "            self.models_dir, \n",
    "            project_name=self.project_name, \n",
    "            fixed_model_name=self.model_name\n",
    "        )\n",
    "        self.interpreter = Interpreter.load(self.last_model_dir)\n",
    "        \n",
    "    def predict_proba(self, question, verbose=0):\n",
    "        out = pd.Series(0, index=['question', 'lang:en', 'lang:de', 'co:ltd', 'co:plc', 'sh'])\n",
    "        # detect language\n",
    "        det_lang = TextBlob(question).detect_language()\n",
    "        if 'lang:' + det_lang in out.index:\n",
    "            out['lang:' + det_lang] = 1\n",
    "        # get confidence\n",
    "        intent_ranking = self.interpreter.parse(question)['intent_ranking']\n",
    "        df_intents = pd.DataFrame.from_dict(intent_ranking)\n",
    "        out[df_intents['name']] = df_intents['confidence']\n",
    "        # return a pd.Series()\n",
    "        return(out)\n",
    "        \n",
    "    def predict(self, question, min_intent_conf, verbose=0):\n",
    "        out = predict_proba(self, question, verbose=0)\n",
    "        out[out < min_intent_conf] = 0\n",
    "        out[out >= min_intent_conf] = 1\n",
    "        return(out)\n",
    "    \n",
    "\n",
    "    # TODO score() function\n",
    "    \n"
   ]
  },
  {
   "cell_type": "code",
   "execution_count": 64,
   "metadata": {},
   "outputs": [
    {
     "name": "stderr",
     "output_type": "stream",
     "text": [
      "/home/david/.conda/envs/bryter_test/lib/python3.6/site-packages/rasa_nlu/training_data/training_data.py:176: UserWarning: Intent 'sh' has only 1 training examples! Minimum is 2, training may fail.\n",
      "  self.MIN_EXAMPLES_PER_INTENT))\n",
      "Epochs: 100%|██████████| 300/300 [00:04<00:00, 93.39it/s, loss=0.110, acc=1.000]\n",
      "100%|██████████| 6/6 [00:00<00:00, 55.10it/s]\n",
      "Epochs: 100%|██████████| 300/300 [00:04<00:00, 70.02it/s, loss=0.095, acc=1.000]\n",
      "100%|██████████| 9/9 [00:00<00:00, 53.09it/s]\n"
     ]
    }
   ],
   "source": [
    "cls = {}\n",
    "for lang in ['de', 'en']:\n",
    "    cls[lang] = RasaClassifier('./rasa_' + lang, data[lang], config_str.format(lang=lang))\n",
    "    cls[lang].train()"
   ]
  },
  {
   "cell_type": "code",
   "execution_count": 66,
   "metadata": {},
   "outputs": [
    {
     "data": {
      "text/plain": [
       "question    0.000000\n",
       "lang:en     0.000000\n",
       "lang:de     1.000000\n",
       "co:ltd      0.787192\n",
       "co:plc      0.422404\n",
       "sh          0.213260\n",
       "dtype: float64"
      ]
     },
     "execution_count": 66,
     "metadata": {},
     "output_type": "execute_result"
    }
   ],
   "source": [
    "cls['de'].predict_proba('Kann ich Gesellschafter einer GmbH sein')"
   ]
  }
 ],
 "metadata": {
  "kernelspec": {
   "display_name": "bryter_test",
   "language": "python",
   "name": "bryter_test"
  },
  "language_info": {
   "codemirror_mode": {
    "name": "ipython",
    "version": 3
   },
   "file_extension": ".py",
   "mimetype": "text/x-python",
   "name": "python",
   "nbconvert_exporter": "python",
   "pygments_lexer": "ipython3",
   "version": "3.6.9"
  },
  "toc": {
   "base_numbering": 1,
   "nav_menu": {},
   "number_sections": true,
   "sideBar": true,
   "skip_h1_title": false,
   "title_cell": "Table of Contents",
   "title_sidebar": "Contents",
   "toc_cell": false,
   "toc_position": {},
   "toc_section_display": true,
   "toc_window_display": false
  }
 },
 "nbformat": 4,
 "nbformat_minor": 2
}
