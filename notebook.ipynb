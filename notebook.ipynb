{
 "cells": [
  {
   "cell_type": "code",
   "execution_count": 8,
   "metadata": {},
   "outputs": [],
   "source": [
    "import pandas as pd\n",
    "import os"
   ]
  },
  {
   "cell_type": "code",
   "execution_count": 3,
   "metadata": {},
   "outputs": [],
   "source": [
    "from textblob import TextBlob"
   ]
  },
  {
   "cell_type": "code",
   "execution_count": 4,
   "metadata": {},
   "outputs": [],
   "source": [
    "import logging\n",
    "import pprint\n",
    "from rasa_nlu.training_data import load_data\n",
    "from rasa_nlu import config\n",
    "from rasa_nlu.model import Trainer\n",
    "from rasa_nlu.model import Interpreter\n",
    "from rasa_nlu.test import run_evaluation"
   ]
  },
  {
   "cell_type": "code",
   "execution_count": 37,
   "metadata": {},
   "outputs": [],
   "source": [
    "class RasaClassifier:\n",
    "    \n",
    "    \n",
    "    def __init__(self, base_dir, data, config_str, verbose=0):\n",
    "        self.base_dir = base_dir\n",
    "        self.data_dir = os.path.join(self.base_dir, 'data')\n",
    "        self.models_dir = os.path.join(self.base_dir, 'models')\n",
    "        self.project_name = 'current'\n",
    "        self.model_name = 'nlu'\n",
    "        self.last_model_dir = os.path.join(self.models_dir, self.project_name, self.model_name)\n",
    "        self.log_file = os.path.join(self.base_dir, 'nlu_model.log')\n",
    "        self.nlu_file = os.path.join(self.data_dir, 'nlu.md')\n",
    "        self.config_file = os.path.join(self.base_dir, 'config.yml')\n",
    "\n",
    "        try:\n",
    "            for d in [self.data_dir, self.last_model_dir]:\n",
    "                os.makedirs(d)\n",
    "        except OSError:\n",
    "            print(\"Creation of the directory structure {} failed\".format(base_dir))\n",
    "        else:\n",
    "            if verbose > 0:\n",
    "                print(\"Successfully created the base directory structure {}\".format(base_dir))\n",
    "\n",
    "        logging.basicConfig(filename=self.log_file, level=logging.INFO)\n",
    "\n",
    "        df_data = pd.DataFrame.from_dict(list(data.items()))\n",
    "        df_data.columns = ['text', 'intent']\n",
    "\n",
    "        i = df_data['intent'].unique()[0]\n",
    "        series_intents = df_data.groupby('intent')['text'].apply(\n",
    "            lambda texts: '## intent:' + texts.name + '\\n' + '\\n'.join(['- ' + t for t in texts])\n",
    "        )\n",
    "        intents = '\\n\\n'.join(series_intents)\n",
    "        with open(self.nlu_file, \"w\") as text_file:\n",
    "            print(intents, file=text_file)\n",
    "\n",
    "        with open(self.config_file, \"w\") as text_file:\n",
    "            print(config_str, file=text_file)\n",
    "\n",
    "    def train(self, verbose=0):\n",
    "        training_data = load_data(self.nlu_file)\n",
    "        trainer = Trainer(config.load(self.config_file))\n",
    "        trainer.train(training_data)\n",
    "        model_directory = trainer.persist(\n",
    "            self.models_dir, \n",
    "            project_name=self.project_name, \n",
    "            fixed_model_name=self.model_name\n",
    "        )\n",
    "\n",
    "        return(Interpreter.load(self.last_model_dir))\n",
    "    \n",
    "o = RasaClassifier('./rasa_en/', data['en'], config_str)"
   ]
  },
  {
   "cell_type": "code",
   "execution_count": 38,
   "metadata": {},
   "outputs": [
    {
     "name": "stderr",
     "output_type": "stream",
     "text": [
      "Epochs: 100%|██████████| 300/300 [00:04<00:00, 82.37it/s, loss=0.100, acc=1.000]\n",
      "100%|██████████| 9/9 [00:00<00:00, 75.69it/s]\n"
     ]
    },
    {
     "data": {
      "text/plain": [
       "<rasa_nlu.model.Interpreter at 0x7fcafac4fdd8>"
      ]
     },
     "execution_count": 38,
     "metadata": {},
     "output_type": "execute_result"
    }
   ],
   "source": [
    "o.train()"
   ]
  },
  {
   "cell_type": "code",
   "execution_count": 22,
   "metadata": {},
   "outputs": [],
   "source": [
    "# This format avoids some text appearing twice, linked to either the same or other intent.\n",
    "data_en = {\n",
    "    'private company': 'co:ltd',\n",
    "    'limited company': 'co:ltd',\n",
    "    'private limited company': 'co:ltd',\n",
    "    'limited liability company': 'co:ltd',\n",
    "    \n",
    "    'publicly traded company': 'co:plc',\n",
    "    'public company': 'co:plc',\n",
    "    'public limited company': 'co:plc',\n",
    "    \n",
    "    'shareholder': 'sh',\n",
    "    'stockholder': 'sh'\n",
    "}\n",
    "data_de = {\n",
    "    'gmbh': 'co:ltd',\n",
    "    'beschränkter haftung': 'co:ltd',\n",
    "    \n",
    "    'plc': 'co:plc',\n",
    "    'ag': 'co:plc',\n",
    "    'aktiengesellschaft': 'co:plc',\n",
    "    \n",
    "    'mehrheitseigner': 'sh',\n",
    "}\n",
    "data = {'en': data_en, 'de': data_de}\n",
    "\n",
    "config_str = '''\n",
    "language: {}\n",
    "\n",
    "pipeline:\n",
    "- name: \"WhitespaceTokenizer\"\n",
    "- name: \"RegexFeaturizer\"\n",
    "- name: \"CRFEntityExtractor\"\n",
    "- name: \"EntitySynonymMapper\"\n",
    "- name: \"CountVectorsFeaturizer\"\n",
    "- name: \"CountVectorsFeaturizer\"\n",
    "  analyzer: \"char_wb\"\n",
    "  min_ngram: 1\n",
    "  max_ngram: 6\n",
    "- name: \"CountVectorsFeaturizer\"\n",
    "  analyzer: \"word\"\n",
    "  min_ngram: 1\n",
    "  max_ngram: 3\n",
    "- name: \"EmbeddingIntentClassifier\"\n",
    "'''"
   ]
  },
  {
   "cell_type": "code",
   "execution_count": 23,
   "metadata": {
    "scrolled": true
   },
   "outputs": [
    {
     "name": "stdout",
     "output_type": "stream",
     "text": [
      "Successfully created the base directory structure ./rasa_en/\n"
     ]
    },
    {
     "name": "stderr",
     "output_type": "stream",
     "text": [
      "/home/david/.conda/envs/bryter_test/lib/python3.6/site-packages/tensorflow/python/framework/dtypes.py:493: FutureWarning: Passing (type, 1) or '1type' as a synonym of type is deprecated; in a future version of numpy, it will be understood as (type, (1,)) / '(1,)type'.\n",
      "  _np_qint8 = np.dtype([(\"qint8\", np.int8, 1)])\n",
      "/home/david/.conda/envs/bryter_test/lib/python3.6/site-packages/tensorflow/python/framework/dtypes.py:494: FutureWarning: Passing (type, 1) or '1type' as a synonym of type is deprecated; in a future version of numpy, it will be understood as (type, (1,)) / '(1,)type'.\n",
      "  _np_quint8 = np.dtype([(\"quint8\", np.uint8, 1)])\n",
      "/home/david/.conda/envs/bryter_test/lib/python3.6/site-packages/tensorflow/python/framework/dtypes.py:495: FutureWarning: Passing (type, 1) or '1type' as a synonym of type is deprecated; in a future version of numpy, it will be understood as (type, (1,)) / '(1,)type'.\n",
      "  _np_qint16 = np.dtype([(\"qint16\", np.int16, 1)])\n",
      "/home/david/.conda/envs/bryter_test/lib/python3.6/site-packages/tensorflow/python/framework/dtypes.py:496: FutureWarning: Passing (type, 1) or '1type' as a synonym of type is deprecated; in a future version of numpy, it will be understood as (type, (1,)) / '(1,)type'.\n",
      "  _np_quint16 = np.dtype([(\"quint16\", np.uint16, 1)])\n",
      "/home/david/.conda/envs/bryter_test/lib/python3.6/site-packages/tensorflow/python/framework/dtypes.py:497: FutureWarning: Passing (type, 1) or '1type' as a synonym of type is deprecated; in a future version of numpy, it will be understood as (type, (1,)) / '(1,)type'.\n",
      "  _np_qint32 = np.dtype([(\"qint32\", np.int32, 1)])\n",
      "/home/david/.conda/envs/bryter_test/lib/python3.6/site-packages/tensorflow/python/framework/dtypes.py:502: FutureWarning: Passing (type, 1) or '1type' as a synonym of type is deprecated; in a future version of numpy, it will be understood as (type, (1,)) / '(1,)type'.\n",
      "  np_resource = np.dtype([(\"resource\", np.ubyte, 1)])\n",
      "Epochs: 100%|██████████| 300/300 [00:04<00:00, 72.42it/s, loss=0.098, acc=1.000]\n",
      "100%|██████████| 9/9 [00:00<00:00, 72.64it/s]\n"
     ]
    }
   ],
   "source": [
    "interpreter = build_rasa('./rasa_en/', data['en'], config_str)"
   ]
  },
  {
   "cell_type": "code",
   "execution_count": 24,
   "metadata": {
    "scrolled": true
   },
   "outputs": [
    {
     "data": {
      "text/plain": [
       "{'intent': {'name': 'co:plc', 'confidence': 0.7435868978500366},\n",
       " 'entities': [],\n",
       " 'intent_ranking': [{'name': 'co:plc', 'confidence': 0.7435868978500366},\n",
       "  {'name': 'sh', 'confidence': 0.5338120460510254},\n",
       "  {'name': 'co:ltd', 'confidence': 0.016869664192199707}],\n",
       " 'text': 'Can we bh shareholders: ppublic limited gmbh ?'}"
      ]
     },
     "execution_count": 24,
     "metadata": {},
     "output_type": "execute_result"
    }
   ],
   "source": [
    "question = \"Can we bh shareholders: ppublic limited gmbh ?\"\n",
    "\n",
    "interpreter.parse(question)"
   ]
  },
  {
   "cell_type": "code",
   "execution_count": 186,
   "metadata": {},
   "outputs": [
    {
     "data": {
      "text/plain": [
       "question    0\n",
       "lang:en     1\n",
       "lang:de     0\n",
       "co:ltd      1\n",
       "co:plc      0\n",
       "sh          1\n",
       "dtype: int64"
      ]
     },
     "execution_count": 186,
     "metadata": {},
     "output_type": "execute_result"
    }
   ],
   "source": [
    "min_intent_conf = 0.3\n",
    "\n",
    "out = pd.Series(0, index=['question', 'lang:en', 'lang:de', 'co:ltd', 'co:plc', 'sh'])\n",
    "\n",
    "det_lang = TextBlob(question).detect_language()\n",
    "if 'lang:' + det_lang in df_out.index:\n",
    "    out['lang:' + det_lang] = 1\n",
    "\n",
    "df_intents = pd.DataFrame.from_dict(interpreter.parse(question)['intent_ranking'])\n",
    "pred_intents = df_intents[df_intents['confidence'] >= min_intent_conf]['name']\n",
    "out[pred_intents] = 1\n",
    "\n",
    "out"
   ]
  },
  {
   "cell_type": "code",
   "execution_count": null,
   "metadata": {},
   "outputs": [],
   "source": []
  }
 ],
 "metadata": {
  "kernelspec": {
   "display_name": "bryter_test",
   "language": "python",
   "name": "bryter_test"
  },
  "language_info": {
   "codemirror_mode": {
    "name": "ipython",
    "version": 3
   },
   "file_extension": ".py",
   "mimetype": "text/x-python",
   "name": "python",
   "nbconvert_exporter": "python",
   "pygments_lexer": "ipython3",
   "version": "3.6.9"
  },
  "toc": {
   "base_numbering": 1,
   "nav_menu": {},
   "number_sections": true,
   "sideBar": true,
   "skip_h1_title": false,
   "title_cell": "Table of Contents",
   "title_sidebar": "Contents",
   "toc_cell": false,
   "toc_position": {},
   "toc_section_display": true,
   "toc_window_display": false
  }
 },
 "nbformat": 4,
 "nbformat_minor": 2
}
