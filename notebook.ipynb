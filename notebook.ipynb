{
 "cells": [
  {
   "cell_type": "code",
   "execution_count": 1,
   "metadata": {},
   "outputs": [],
   "source": [
    "import numpy as np\n",
    "import pandas as pd"
   ]
  },
  {
   "cell_type": "code",
   "execution_count": 2,
   "metadata": {},
   "outputs": [],
   "source": [
    "from sklearn.model_selection import GridSearchCV\n",
    "from sklearn.model_selection import train_test_split"
   ]
  },
  {
   "cell_type": "code",
   "execution_count": 3,
   "metadata": {},
   "outputs": [],
   "source": [
    "from rasa_classifier import RasaClassifier"
   ]
  },
  {
   "cell_type": "code",
   "execution_count": 4,
   "metadata": {},
   "outputs": [],
   "source": [
    "# Used Chrome extension Scraper to scrape questions from Google's \"People Also Ask\" section\n",
    "# See https://chrome.google.com/webstore/detail/scraper/mbigbapnjcgaffohmbkdlecaccepngjd\n",
    "\n",
    "Xy = pd.read_csv('co_sh_questions.csv')"
   ]
  },
  {
   "cell_type": "code",
   "execution_count": 5,
   "metadata": {},
   "outputs": [
    {
     "data": {
      "text/plain": [
       "(239, 6)"
      ]
     },
     "execution_count": 5,
     "metadata": {},
     "output_type": "execute_result"
    }
   ],
   "source": [
    "Xy.shape"
   ]
  },
  {
   "cell_type": "code",
   "execution_count": 6,
   "metadata": {},
   "outputs": [],
   "source": [
    "X_train, X_test, y_train, y_test = train_test_split(\n",
    "    Xy['Question'], Xy.drop('Question', axis=1), test_size=0.2, random_state=27\n",
    ")"
   ]
  },
  {
   "cell_type": "code",
   "execution_count": 7,
   "metadata": {},
   "outputs": [],
   "source": [
    "config = '''\n",
    "pipeline:\n",
    "- name: \"WhitespaceTokenizer\"\n",
    "- name: \"RegexFeaturizer\"\n",
    "- name: \"CRFEntityExtractor\"\n",
    "- name: \"EntitySynonymMapper\"\n",
    "- name: \"CountVectorsFeaturizer\"\n",
    "{char} \n",
    "{word}\n",
    "- name: \"EmbeddingIntentClassifier\"\n",
    "  intent_tokenization_flag: true\n",
    "  intent_split_symbol: \"+\"\n",
    "'''\n",
    "char_featurizer = '''\n",
    "- name: \"CountVectorsFeaturizer\"\n",
    "  analyzer: \"char_wb\"\n",
    "  min_ngram: 1\n",
    "  max_ngram: {max}\n",
    "'''\n",
    "word_featurizer = '''\n",
    "- name: \"CountVectorsFeaturizer\"\n",
    "  analyzer: \"word\"\n",
    "  min_ngram: 1\n",
    "  max_ngram: {max}\n",
    "'''"
   ]
  },
  {
   "cell_type": "code",
   "execution_count": 8,
   "metadata": {},
   "outputs": [],
   "source": [
    "%%capture\n",
    "\n",
    "# if using this specific pipeline, classifier parameters could rather represent the pipeline steps\n",
    "# that would make cross-validation much simpler\n",
    "params = {\n",
    "    'config_str': [\n",
    "        config.format(char='', word=''),\n",
    "        config.format(char=char_featurizer.format(max=4), word=''),\n",
    "        config.format(char=char_featurizer.format(max=6), word=''),\n",
    "        config.format(char=char_featurizer.format(max=4), word=word_featurizer.format(max=3)),\n",
    "        config.format(char=char_featurizer.format(max=6), word=word_featurizer.format(max=3)),\n",
    "        config.format(char='', word=word_featurizer.format(max=3)),\n",
    "        config.format(char='', word=word_featurizer.format(max=3)),\n",
    "    ]\n",
    "}\n",
    "\n",
    "cvm = GridSearchCV(estimator=RasaClassifier(), param_grid=params, cv=5, n_jobs=2)\n",
    "cvm = cvm.fit(X_train, y_train)"
   ]
  },
  {
   "cell_type": "code",
   "execution_count": 9,
   "metadata": {},
   "outputs": [
    {
     "data": {
      "text/plain": [
       "{'config_str': '\\npipeline:\\n- name: \"WhitespaceTokenizer\"\\n- name: \"RegexFeaturizer\"\\n- name: \"CRFEntityExtractor\"\\n- name: \"EntitySynonymMapper\"\\n- name: \"CountVectorsFeaturizer\"\\n \\n\\n- name: \"CountVectorsFeaturizer\"\\n  analyzer: \"word\"\\n  min_ngram: 1\\n  max_ngram: 3\\n\\n- name: \"EmbeddingIntentClassifier\"\\n  intent_tokenization_flag: true\\n  intent_split_symbol: \"+\"\\n'}"
      ]
     },
     "execution_count": 9,
     "metadata": {},
     "output_type": "execute_result"
    }
   ],
   "source": [
    "cvm.best_params_"
   ]
  },
  {
   "cell_type": "code",
   "execution_count": 10,
   "metadata": {},
   "outputs": [
    {
     "name": "stderr",
     "output_type": "stream",
     "text": [
      "\n"
     ]
    },
    {
     "data": {
      "text/plain": [
       "0.9282738095238096"
      ]
     },
     "execution_count": 10,
     "metadata": {},
     "output_type": "execute_result"
    }
   ],
   "source": [
    "cvm.score(X_test, y_test)"
   ]
  },
  {
   "cell_type": "code",
   "execution_count": 11,
   "metadata": {},
   "outputs": [
    {
     "name": "stderr",
     "output_type": "stream",
     "text": [
      "\n",
      "/home/david/.local/lib/python3.6/site-packages/pandas/core/frame.py:7116: FutureWarning: Sorting because non-concatenation axis is not aligned. A future version\n",
      "of pandas will change to not sort by default.\n",
      "\n",
      "To accept the future behavior, pass 'sort=False'.\n",
      "\n",
      "To retain the current behavior and silence the warning, pass 'sort=True'.\n",
      "\n",
      "  sort=sort,\n"
     ]
    },
    {
     "data": {
      "text/html": [
       "<div>\n",
       "<style scoped>\n",
       "    .dataframe tbody tr th:only-of-type {\n",
       "        vertical-align: middle;\n",
       "    }\n",
       "\n",
       "    .dataframe tbody tr th {\n",
       "        vertical-align: top;\n",
       "    }\n",
       "\n",
       "    .dataframe thead th {\n",
       "        text-align: right;\n",
       "    }\n",
       "</style>\n",
       "<table border=\"1\" class=\"dataframe\">\n",
       "  <thead>\n",
       "    <tr style=\"text-align: right;\">\n",
       "      <th></th>\n",
       "      <th>lang:de</th>\n",
       "      <th>lang:en</th>\n",
       "      <th>co:ltd</th>\n",
       "      <th>co:ltd+co:plc</th>\n",
       "      <th>co:ltd+co:plc+sh</th>\n",
       "      <th>co:ltd+sh</th>\n",
       "      <th>co:plc</th>\n",
       "      <th>co:plc+sh</th>\n",
       "      <th>sh</th>\n",
       "    </tr>\n",
       "  </thead>\n",
       "  <tbody>\n",
       "    <tr>\n",
       "      <th>13</th>\n",
       "      <td>0</td>\n",
       "      <td>1</td>\n",
       "      <td>0.619702</td>\n",
       "      <td>0.129281</td>\n",
       "      <td>0.064542</td>\n",
       "      <td>0.524644</td>\n",
       "      <td>0.000000</td>\n",
       "      <td>0.000000</td>\n",
       "      <td>0.000000</td>\n",
       "    </tr>\n",
       "    <tr>\n",
       "      <th>14</th>\n",
       "      <td>0</td>\n",
       "      <td>1</td>\n",
       "      <td>0.000000</td>\n",
       "      <td>0.249244</td>\n",
       "      <td>0.000000</td>\n",
       "      <td>0.000000</td>\n",
       "      <td>0.718785</td>\n",
       "      <td>0.512952</td>\n",
       "      <td>0.364036</td>\n",
       "    </tr>\n",
       "    <tr>\n",
       "      <th>15</th>\n",
       "      <td>0</td>\n",
       "      <td>1</td>\n",
       "      <td>0.871631</td>\n",
       "      <td>0.318964</td>\n",
       "      <td>0.000000</td>\n",
       "      <td>0.029850</td>\n",
       "      <td>0.000000</td>\n",
       "      <td>0.000000</td>\n",
       "      <td>0.000000</td>\n",
       "    </tr>\n",
       "  </tbody>\n",
       "</table>\n",
       "</div>"
      ],
      "text/plain": [
       "    lang:de  lang:en    co:ltd  co:ltd+co:plc  co:ltd+co:plc+sh  co:ltd+sh  \\\n",
       "13        0        1  0.619702       0.129281          0.064542   0.524644   \n",
       "14        0        1  0.000000       0.249244          0.000000   0.000000   \n",
       "15        0        1  0.871631       0.318964          0.000000   0.029850   \n",
       "\n",
       "      co:plc  co:plc+sh        sh  \n",
       "13  0.000000   0.000000  0.000000  \n",
       "14  0.718785   0.512952  0.364036  \n",
       "15  0.000000   0.000000  0.000000  "
      ]
     },
     "execution_count": 11,
     "metadata": {},
     "output_type": "execute_result"
    }
   ],
   "source": [
    "cvm.best_estimator_.predict_conf(X_test).head(3)"
   ]
  },
  {
   "cell_type": "code",
   "execution_count": 12,
   "metadata": {},
   "outputs": [
    {
     "name": "stderr",
     "output_type": "stream",
     "text": [
      "\n"
     ]
    },
    {
     "data": {
      "text/html": [
       "<div>\n",
       "<style scoped>\n",
       "    .dataframe tbody tr th:only-of-type {\n",
       "        vertical-align: middle;\n",
       "    }\n",
       "\n",
       "    .dataframe tbody tr th {\n",
       "        vertical-align: top;\n",
       "    }\n",
       "\n",
       "    .dataframe thead th {\n",
       "        text-align: right;\n",
       "    }\n",
       "</style>\n",
       "<table border=\"1\" class=\"dataframe\">\n",
       "  <thead>\n",
       "    <tr style=\"text-align: right;\">\n",
       "      <th></th>\n",
       "      <th>lang:de</th>\n",
       "      <th>lang:en</th>\n",
       "      <th>co:ltd</th>\n",
       "      <th>sh</th>\n",
       "      <th>co:plc</th>\n",
       "    </tr>\n",
       "  </thead>\n",
       "  <tbody>\n",
       "    <tr>\n",
       "      <th>13</th>\n",
       "      <td>0</td>\n",
       "      <td>1</td>\n",
       "      <td>1.0</td>\n",
       "      <td>0.0</td>\n",
       "      <td>0.0</td>\n",
       "    </tr>\n",
       "    <tr>\n",
       "      <th>14</th>\n",
       "      <td>0</td>\n",
       "      <td>1</td>\n",
       "      <td>0.0</td>\n",
       "      <td>0.0</td>\n",
       "      <td>1.0</td>\n",
       "    </tr>\n",
       "    <tr>\n",
       "      <th>15</th>\n",
       "      <td>0</td>\n",
       "      <td>1</td>\n",
       "      <td>1.0</td>\n",
       "      <td>0.0</td>\n",
       "      <td>0.0</td>\n",
       "    </tr>\n",
       "  </tbody>\n",
       "</table>\n",
       "</div>"
      ],
      "text/plain": [
       "    lang:de  lang:en  co:ltd   sh  co:plc\n",
       "13        0        1     1.0  0.0     0.0\n",
       "14        0        1     0.0  0.0     1.0\n",
       "15        0        1     1.0  0.0     0.0"
      ]
     },
     "execution_count": 12,
     "metadata": {},
     "output_type": "execute_result"
    }
   ],
   "source": [
    "cvm.predict(X_test).head(3)"
   ]
  }
 ],
 "metadata": {
  "kernelspec": {
   "display_name": "bryter_test_bare",
   "language": "python",
   "name": "bryter_test_bare"
  },
  "language_info": {
   "codemirror_mode": {
    "name": "ipython",
    "version": 3
   },
   "file_extension": ".py",
   "mimetype": "text/x-python",
   "name": "python",
   "nbconvert_exporter": "python",
   "pygments_lexer": "ipython3",
   "version": "3.6.9"
  },
  "toc": {
   "base_numbering": 1,
   "nav_menu": {},
   "number_sections": true,
   "sideBar": true,
   "skip_h1_title": false,
   "title_cell": "Table of Contents",
   "title_sidebar": "Contents",
   "toc_cell": false,
   "toc_position": {},
   "toc_section_display": true,
   "toc_window_display": false
  }
 },
 "nbformat": 4,
 "nbformat_minor": 2
}
