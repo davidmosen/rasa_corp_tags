{
 "cells": [
  {
   "cell_type": "code",
   "execution_count": 1,
   "metadata": {},
   "outputs": [],
   "source": [
    "import pandas as pd"
   ]
  },
  {
   "cell_type": "code",
   "execution_count": 2,
   "metadata": {},
   "outputs": [],
   "source": [
    "Xy = pd.read_csv('co_sh_questions.csv')"
   ]
  },
  {
   "cell_type": "code",
   "execution_count": 3,
   "metadata": {},
   "outputs": [
    {
     "data": {
      "text/plain": [
       "en    157\n",
       "de     89\n",
       "fr      1\n",
       "dtype: int64"
      ]
     },
     "execution_count": 3,
     "metadata": {},
     "output_type": "execute_result"
    }
   ],
   "source": [
    "import langid\n",
    "pd.Series([langid.classify(q)[0] for q in Xy['Question']]).value_counts()"
   ]
  },
  {
   "cell_type": "code",
   "execution_count": 4,
   "metadata": {},
   "outputs": [
    {
     "data": {
      "text/plain": [
       "en         120\n",
       "de          81\n",
       "pt          11\n",
       "UNKNOWN      7\n",
       "ca           6\n",
       "da           5\n",
       "es           4\n",
       "fr           3\n",
       "nl           3\n",
       "cy           1\n",
       "nb           1\n",
       "sk           1\n",
       "ro           1\n",
       "sv           1\n",
       "pl           1\n",
       "it           1\n",
       "dtype: int64"
      ]
     },
     "execution_count": 4,
     "metadata": {},
     "output_type": "execute_result"
    }
   ],
   "source": [
    "from guess_language import guess_language\n",
    "pd.Series([guess_language(q) for q in Xy['Question']]).value_counts()"
   ]
  },
  {
   "cell_type": "code",
   "execution_count": 5,
   "metadata": {},
   "outputs": [
    {
     "name": "stdout",
     "output_type": "stream",
     "text": [
      "--2019-09-15 13:17:50--  https://dl.fbaipublicfiles.com/fasttext/supervised-models/lid.176.ftz\n",
      "Resolving dl.fbaipublicfiles.com (dl.fbaipublicfiles.com)... 2606:4700:10::6814:16a6, 2606:4700:10::6814:6a6, 104.20.22.166, ...\n",
      "Connecting to dl.fbaipublicfiles.com (dl.fbaipublicfiles.com)|2606:4700:10::6814:16a6|:443... connected.\n",
      "HTTP request sent, awaiting response... 200 OK\n",
      "Length: 938013 (916K) [binary/octet-stream]\n",
      "Saving to: ‘lid.176.ftz.2’\n",
      "\n",
      "100%[======================================>] 938,013      914KB/s   in 1.0s   \n",
      "\n",
      "2019-09-15 13:17:52 (914 KB/s) - ‘lid.176.ftz.2’ saved [938013/938013]\n",
      "\n"
     ]
    },
    {
     "name": "stderr",
     "output_type": "stream",
     "text": [
      "\n"
     ]
    },
    {
     "data": {
      "text/plain": [
       "en    158\n",
       "de     89\n",
       "dtype: int64"
      ]
     },
     "execution_count": 5,
     "metadata": {},
     "output_type": "execute_result"
    }
   ],
   "source": [
    "import fasttext\n",
    "!wget https://dl.fbaipublicfiles.com/fasttext/supervised-models/lid.176.ftz\n",
    "model = fasttext.load_model('lid.176.ftz')\n",
    "pd.Series([model.predict(q, k=1)[0][0].replace('__label__','') for q in Xy['Question']]).value_counts()"
   ]
  },
  {
   "cell_type": "code",
   "execution_count": 6,
   "metadata": {},
   "outputs": [
    {
     "data": {
      "text/plain": [
       "True    247\n",
       "dtype: int64"
      ]
     },
     "execution_count": 6,
     "metadata": {},
     "output_type": "execute_result"
    }
   ],
   "source": [
    "pd.DataFrame(\n",
    "    [\n",
    "        pd.Series([model.predict(q, k=1)[0][0].replace('__label__','') for q in Xy['Question']]), \n",
    "        pd.Series(['de' if l else 'en' for l in Xy['lang:de']])\n",
    "    ]\n",
    ").apply(lambda x: x[0]==x[1]).value_counts()"
   ]
  }
 ],
 "metadata": {
  "kernelspec": {
   "display_name": "bryter_test",
   "language": "python",
   "name": "bryter_test"
  },
  "language_info": {
   "codemirror_mode": {
    "name": "ipython",
    "version": 3
   },
   "file_extension": ".py",
   "mimetype": "text/x-python",
   "name": "python",
   "nbconvert_exporter": "python",
   "pygments_lexer": "ipython3",
   "version": "3.6.9"
  },
  "toc": {
   "base_numbering": 1,
   "nav_menu": {},
   "number_sections": true,
   "sideBar": true,
   "skip_h1_title": false,
   "title_cell": "Table of Contents",
   "title_sidebar": "Contents",
   "toc_cell": false,
   "toc_position": {},
   "toc_section_display": true,
   "toc_window_display": false
  }
 },
 "nbformat": 4,
 "nbformat_minor": 2
}
